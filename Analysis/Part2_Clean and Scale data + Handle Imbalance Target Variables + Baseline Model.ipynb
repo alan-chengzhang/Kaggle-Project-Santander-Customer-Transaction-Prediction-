{
 "cells": [
  {
   "cell_type": "markdown",
   "metadata": {},
   "source": [
    "# Overall introduction\n",
    "\n",
    "In the first part, I cleaned the data and check the data quality from many aspects. Besides, I also performed visualization based on an outstanding reference.\n",
    "\n",
    "In this part, I implement those data cleaning methods and function to get high quality data. Besides, since the target variable is extremely imbalanced based on part 1, I found some outstanding algorithms to handle that using advanced sampling technics."
   ]
  },
  {
   "cell_type": "code",
   "execution_count": 4,
   "metadata": {},
   "outputs": [
    {
     "data": {
      "text/plain": [
       "['link for data sets.txt', 'sample_submission.csv', 'test.csv', 'train.csv']"
      ]
     },
     "execution_count": 4,
     "metadata": {},
     "output_type": "execute_result"
    }
   ],
   "source": [
    "import os \n",
    "path = os.path.abspath('../data/')\n",
    "#path = os.path.abspath('./')\n",
    "os.listdir(path)"
   ]
  },
  {
   "cell_type": "code",
   "execution_count": 5,
   "metadata": {},
   "outputs": [],
   "source": [
    "import pandas as pd\n",
    "train_df=pd.read_csv(path+'/train.csv')\n",
    "test_df=pd.read_csv(path+'/test.csv')"
   ]
  },
  {
   "cell_type": "code",
   "execution_count": null,
   "metadata": {},
   "outputs": [],
   "source": []
  },
  {
   "cell_type": "markdown",
   "metadata": {},
   "source": [
    "# Delete outliers in trainning sets\n",
    "\n",
    "If there is an outlier in one column, the whole row will be deleted.\n",
    "\n",
    "The test set cannot be changed."
   ]
  },
  {
   "cell_type": "code",
   "execution_count": 6,
   "metadata": {},
   "outputs": [],
   "source": [
    "import numpy as np\n",
    "def delete_outlier(df,times):\n",
    "    '''\n",
    "    df should be sub-df that only contains features with numeric values\n",
    "    times is the in n*std\n",
    "    return a list of bool values, shows whether we should keep columns\n",
    "    '''\n",
    "    upper = pd.DataFrame()\n",
    "    upper = df.apply(lambda x: np.mean(x)+times*np.std(x), axis=0)\n",
    "    lower = pd.DataFrame()\n",
    "    lower = train_df_col.apply(lambda x: np.mean(x)-times*np.std(x), axis=0)\n",
    "    tt = pd.concat([upper, lower], axis=1, keys=['upper_bound', 'lower_bound'])\n",
    "    bound= np.transpose(tt)\n",
    "    df_bound = pd.concat([df,bound],axis=0)\n",
    "    df_bound_eliminate = pd.DataFrame(columns=df_bound.columns)\n",
    "    for col in df_bound.columns:\n",
    "        df_bound_eliminate.loc[:,col] = (df_bound.loc[:,col]>df_bound.loc['lower_bound',col])\\\n",
    "                                        & (df_bound.loc[:,col]<df_bound.loc['upper_bound',col])\n",
    "    logic_value = df_bound_eliminate.apply(sum,axis=1)==df_bound.shape[1]\n",
    "    return(logic_value)"
   ]
  },
  {
   "cell_type": "code",
   "execution_count": 7,
   "metadata": {
    "scrolled": true
   },
   "outputs": [
    {
     "name": "stdout",
     "output_type": "stream",
     "text": [
      "200000\n"
     ]
    },
    {
     "name": "stderr",
     "output_type": "stream",
     "text": [
      "C:\\Users\\Alan_\\Anaconda3\\lib\\site-packages\\ipykernel_launcher.py:5: UserWarning: Boolean Series key will be reindexed to match DataFrame index.\n",
      "  \"\"\"\n"
     ]
    },
    {
     "name": "stdout",
     "output_type": "stream",
     "text": [
      "(188969, 202)\n"
     ]
    }
   ],
   "source": [
    "train_df1 = train_df.copy()\n",
    "train_df_col = train_df.iloc[:,2:]\n",
    "\n",
    "print(train_df_col.shape[0])\n",
    "train_df1_eliminate = train_df1[delete_outlier(train_df_col,3)]\n",
    "print(train_df1_eliminate.shape)\n",
    "\n",
    "train_df1_eliminate.reset_index(drop=True,inplace=True)"
   ]
  },
  {
   "cell_type": "markdown",
   "metadata": {},
   "source": [
    "About 4.5% of data is deleted. It's not too much and "
   ]
  },
  {
   "cell_type": "markdown",
   "metadata": {},
   "source": [
    "For test data, make a copy of original data"
   ]
  },
  {
   "cell_type": "code",
   "execution_count": 8,
   "metadata": {},
   "outputs": [],
   "source": [
    "test_df1 = test_df.copy()"
   ]
  },
  {
   "cell_type": "code",
   "execution_count": null,
   "metadata": {},
   "outputs": [],
   "source": []
  },
  {
   "cell_type": "markdown",
   "metadata": {},
   "source": [
    "# Drop duplicate rows in trainning data\n",
    "\n",
    "The test data cannot be changed"
   ]
  },
  {
   "cell_type": "code",
   "execution_count": 9,
   "metadata": {},
   "outputs": [],
   "source": [
    "train_df1_eliminate=train_df1_eliminate.drop_duplicates(keep='last')"
   ]
  },
  {
   "cell_type": "code",
   "execution_count": 10,
   "metadata": {},
   "outputs": [
    {
     "data": {
      "text/plain": [
       "(188969, 202)"
      ]
     },
     "execution_count": 10,
     "metadata": {},
     "output_type": "execute_result"
    }
   ],
   "source": [
    "train_df1_eliminate.shape"
   ]
  },
  {
   "cell_type": "markdown",
   "metadata": {},
   "source": [
    "There is not duplicate row in the trainning data"
   ]
  },
  {
   "cell_type": "code",
   "execution_count": null,
   "metadata": {},
   "outputs": [],
   "source": []
  },
  {
   "cell_type": "markdown",
   "metadata": {},
   "source": [
    "# Scale both trainning and testing data"
   ]
  },
  {
   "cell_type": "code",
   "execution_count": 11,
   "metadata": {},
   "outputs": [],
   "source": [
    "from sklearn.preprocessing import StandardScaler\n",
    "\n",
    "def scale_train(df):\n",
    "    '''\n",
    "    df should be only with features and target variable in the first column\n",
    "    '''\n",
    "    # before concat, convect both to dataframe\n",
    "    features = df.columns.values[1:]\n",
    "    target = pd.DataFrame(df.iloc[:,0])\n",
    "    feature_scaled = pd.DataFrame(StandardScaler().fit_transform(df.iloc[:,1:]),columns=features)\n",
    "    df_scaled = pd.concat([target,feature_scaled],axis=1)\n",
    "    return(df_scaled)"
   ]
  },
  {
   "cell_type": "code",
   "execution_count": 12,
   "metadata": {},
   "outputs": [],
   "source": [
    "scaled_train_eliminate = scale_train(train_df1_eliminate.iloc[:,1:])"
   ]
  },
  {
   "cell_type": "code",
   "execution_count": 13,
   "metadata": {},
   "outputs": [],
   "source": [
    "def scale_test(df):\n",
    "    '''\n",
    "    df should be only with features\n",
    "    '''\n",
    "    features = df.columns.values\n",
    "    feature_scaled = pd.DataFrame(StandardScaler().fit_transform(df),columns=features)\n",
    "    return(feature_scaled)"
   ]
  },
  {
   "cell_type": "code",
   "execution_count": 14,
   "metadata": {},
   "outputs": [],
   "source": [
    "scaled_test = scale_test(test_df1.iloc[:,1:])"
   ]
  },
  {
   "cell_type": "markdown",
   "metadata": {},
   "source": [
    "# Handle imbalance target variables\n",
    "\n",
    "Just choose one from following three ways.\n",
    "All the methods will be very time consuming.\n",
    "\n",
    "All the reference are written in Chinese. Apologize for the potential inconvenience."
   ]
  },
  {
   "cell_type": "markdown",
   "metadata": {},
   "source": [
    "Reference:\n",
    "\n",
    "Package handle imbalance data：\n",
    "https://blog.csdn.net/kizgel/article/details/78553009\n",
    "    \n",
    "在之前的SMOTE方法中, 当由边界的样本与其他样本进行过采样差值时, 很容易生成一些噪音数据. \n",
    "因此, 在过采样之后需要对样本进行清洗. 这样, 第三节中涉及到的TomekLink 与 EditedNearestNeighbours方法就能实现上述的要求. \n",
    "所以就有了两种结合过采样与下采样的方法: (i) SMOTETomek and (ii) SMOTEENN."
   ]
  },
  {
   "cell_type": "markdown",
   "metadata": {},
   "source": [
    "There is a method of SMOTE/SMOTEENN to deal with the imbalance situation, here is the theory:\n",
    "https://www.jianshu.com/p/13fc0f7f5565\n",
    "\n",
    "http://www.360doc.com/content/17/0110/15/18144428_621538252.shtml\n",
    "\n",
    "https://blog.csdn.net/together_cz/article/details/80002373\n",
    "\n",
    "https://blog.csdn.net/nlpuser/article/details/81265614\n",
    "\n",
    "\n",
    "ENN introduction:\n",
    "\n",
    "https://blog.csdn.net/qq_39623150/article/details/80922511\n",
    "\n",
    "Edited Nearest Neighbor (ENN)\n",
    "\n",
    "\n",
    "Intro and comparison of these methods\n",
    "https://blog.csdn.net/a358463121/article/details/52304670\n",
    "\n",
    "https://blog.csdn.net/data_scientist/article/details/79003914"
   ]
  },
  {
   "cell_type": "code",
   "execution_count": 15,
   "metadata": {},
   "outputs": [],
   "source": [
    "y_train = train_df1_eliminate.iloc[:,1]\n",
    "X_train = scaled_train_eliminate.iloc[:,2:]"
   ]
  },
  {
   "cell_type": "markdown",
   "metadata": {},
   "source": [
    "### SMOTE\n",
    "\n",
    "I use this model to handle the imbalance since it's a little bit faster than the other two."
   ]
  },
  {
   "cell_type": "code",
   "execution_count": 16,
   "metadata": {},
   "outputs": [
    {
     "name": "stderr",
     "output_type": "stream",
     "text": [
      "Using TensorFlow backend.\n"
     ]
    },
    {
     "name": "stdout",
     "output_type": "stream",
     "text": [
      "Original dataset shape Counter({0: 170143, 1: 18826})\n",
      "SMOTE dataset shape Counter({0: 170143, 1: 170143})\n"
     ]
    }
   ],
   "source": [
    "from collections import Counter   # Counter: count different situation\n",
    "from imblearn.over_sampling import SMOTE\n",
    "print('Original dataset shape {}'.format(Counter(y_train)))\n",
    "\n",
    "# define SMOTE model\n",
    "smo = SMOTE(random_state=233)\n",
    "X_smo, y_smo = smo.fit_sample(X_train, y_train)\n",
    "\n",
    "print('SMOTE dataset shape {}'.format(Counter(y_smo)))"
   ]
  },
  {
   "cell_type": "markdown",
   "metadata": {},
   "source": [
    "### SMOTEENN"
   ]
  },
  {
   "cell_type": "code",
   "execution_count": null,
   "metadata": {
    "scrolled": true
   },
   "outputs": [
    {
     "name": "stdout",
     "output_type": "stream",
     "text": [
      "Original dataset shape Counter({0: 170143, 1: 18826})\n"
     ]
    }
   ],
   "source": [
    "from imblearn.combine import SMOTEENN\n",
    "smote_enn = SMOTEENN(random_state=2333)\n",
    "print('Original dataset shape {}'.format(Counter(y_train)))\n",
    "\n",
    "X_smo_enn, y_smo_enn = smote_enn.fit_sample(X_train, y_train)\n",
    "print('SMOTEENN dataset shape {}'.format(Counter(y_smo_enn)))"
   ]
  },
  {
   "cell_type": "markdown",
   "metadata": {},
   "source": [
    "### SMOTETomek"
   ]
  },
  {
   "cell_type": "code",
   "execution_count": null,
   "metadata": {},
   "outputs": [],
   "source": [
    "from imblearn.combine import SMOTETomek\n",
    "smote_tomek = SMOTEENN(random_state=2333)\n",
    "print('Original dataset shape {}'.format(Counter(y_train)))\n",
    "\n",
    "X_smo_to, y_X_smo_to = smote_tomek.fit_sample(X_train, y_train)\n",
    "print('SMOTETomek dataset shape {}'.format(Counter(y_smo_to)))"
   ]
  },
  {
   "cell_type": "code",
   "execution_count": null,
   "metadata": {},
   "outputs": [],
   "source": []
  },
  {
   "cell_type": "markdown",
   "metadata": {},
   "source": [
    "# Baseline Model\n",
    "\n",
    "## CV penalized logistic regression with gridsearch"
   ]
  },
  {
   "cell_type": "markdown",
   "metadata": {},
   "source": [
    "Reference:\n",
    "\n",
    "Gridsearch (Chinese)\n",
    ":https://blog.csdn.net/u012897374/article/details/74999940\n",
    "\n",
    "Precedure of trainning the model (Chinese): https://blog.csdn.net/u012897374/article/details/74999940\n",
    "\n",
    "Gridsearch official doucument (English)    https://scikit-learn.org/stable/modules/generated/sklearn.model_selection.GridSearchCV.html\n",
    "\n",
    "Scoring function official doucument (English)：https://scikit-learn.org/stable/modules/model_evaluation.html#scoring-parameter"
   ]
  },
  {
   "cell_type": "markdown",
   "metadata": {},
   "source": [
    "### Train the model\n",
    "\n",
    "The reason to use np.logspace rather than np.linspace()   https://blog.csdn.net/willduan1/article/details/78075334\n",
    "\n",
    "numpy.logspace(): https://docs.scipy.org/doc/numpy/reference/generated/numpy.logspace.html\n",
    "\n",
    "np.linspace(): https://docs.scipy.org/doc/numpy/reference/generated/numpy.linspace.html"
   ]
  },
  {
   "cell_type": "code",
   "execution_count": 28,
   "metadata": {},
   "outputs": [],
   "source": [
    "from sklearn.model_selection import train_test_split\n",
    "X_train,X_test,y_train,y_test = train_test_split(X_smo, y_smo, test_size=0.3, random_state=2333)"
   ]
  },
  {
   "cell_type": "code",
   "execution_count": 23,
   "metadata": {
    "scrolled": false
   },
   "outputs": [
    {
     "name": "stdout",
     "output_type": "stream",
     "text": [
      "Best parameters set found on development set:\n",
      " {'C': 1456.3484775012444, 'penalty': 'l1'}\n"
     ]
    }
   ],
   "source": [
    "import numpy as np\n",
    "import pandas as pd\n",
    "from sklearn.linear_model import LogisticRegression\n",
    "from sklearn.model_selection import GridSearchCV\n",
    "from sklearn.metrics import classification_report\n",
    "from sklearn.model_selection import KFold,StratifiedKFold\n",
    "\n",
    "tuned_parameters = [{'penalty': ['l1'],\n",
    "                        'C': np.logspace(-5,5)},\n",
    "                     {'penalty': ['l2'],\n",
    "                        'C': np.logspace(-5,5)}]\n",
    "\n",
    "# cv with StratifiedKFold: StratifiedKFold make sure the distribution of different folds to be similar\n",
    "# n_splits: number of folds\n",
    "skf = StratifiedKFold(n_splits=5)\n",
    "cross_validation = skf.get_n_splits(X_train, y_train.ravel())                 \n",
    "\n",
    "lr = LogisticRegression(tol=0.01, solver='saga')\n",
    "clf = GridSearchCV(lr, tuned_parameters, cv=cross_validation, scoring='roc_auc')  # use AUC value to be the standard\n",
    "clf.fit(X_train, y_train.ravel())  \n",
    "# .ravel() change to 1-d array\n",
    "# XX.fit: use training data to tune the parameters\n",
    "print(\"Best parameters set found on development set:\\n {}\".format(clf.best_params_))"
   ]
  },
  {
   "cell_type": "code",
   "execution_count": null,
   "metadata": {},
   "outputs": [],
   "source": []
  },
  {
   "cell_type": "markdown",
   "metadata": {},
   "source": [
    "### Fit the best model, predict label and corresponding probability"
   ]
  },
  {
   "cell_type": "code",
   "execution_count": 45,
   "metadata": {},
   "outputs": [],
   "source": [
    "best_model = clf.best_estimator_\n",
    "best_model.fit(X_train, y_train)\n",
    "y_true = y_test\n",
    "y_pred = best_model.predict(X_test)\n",
    "y_pred_pro = best_model.predict_proba(X_test)\n",
    "\n",
    "# show prob of each observation of class 0 and class 1\n",
    "prob = pd.DataFrame(y_pred_pro, columns=best_model.classes_.tolist())"
   ]
  },
  {
   "cell_type": "code",
   "execution_count": null,
   "metadata": {},
   "outputs": [],
   "source": []
  },
  {
   "cell_type": "markdown",
   "metadata": {},
   "source": [
    "### Classification report"
   ]
  },
  {
   "cell_type": "code",
   "execution_count": 34,
   "metadata": {
    "scrolled": true
   },
   "outputs": [
    {
     "name": "stdout",
     "output_type": "stream",
     "text": [
      "              precision    recall  f1-score   support\n",
      "\n",
      "           0    0.79951   0.78776   0.79359     51032\n",
      "           1    0.79092   0.80254   0.79669     51054\n",
      "\n",
      "    accuracy                        0.79515    102086\n",
      "   macro avg    0.79522   0.79515   0.79514    102086\n",
      "weighted avg    0.79522   0.79515   0.79514    102086\n",
      "\n"
     ]
    }
   ],
   "source": [
    "print(classification_report(y_true, y_pred, labels=None, target_names=None, sample_weight=None,digits=5))"
   ]
  },
  {
   "cell_type": "code",
   "execution_count": null,
   "metadata": {},
   "outputs": [],
   "source": []
  },
  {
   "cell_type": "markdown",
   "metadata": {},
   "source": [
    "### Confusion matrix and visualization"
   ]
  },
  {
   "cell_type": "code",
   "execution_count": 39,
   "metadata": {},
   "outputs": [
    {
     "data": {
      "text/plain": [
       "array([[40201, 10831],\n",
       "       [10081, 40973]], dtype=int64)"
      ]
     },
     "execution_count": 39,
     "metadata": {},
     "output_type": "execute_result"
    }
   ],
   "source": [
    "# confusion_matrix\n",
    "from sklearn.metrics import confusion_matrix\n",
    "confusion_matrix(y_true, y_pred, labels=[0,1])"
   ]
  },
  {
   "cell_type": "code",
   "execution_count": 41,
   "metadata": {
    "scrolled": true
   },
   "outputs": [
    {
     "data": {
      "image/png": "[encoded data removed]",
      "text/plain": [
       "<Figure size 432x288 with 2 Axes>"
      ]
     },
     "metadata": {
      "needs_background": "light"
     },
     "output_type": "display_data"
    }
   ],
   "source": [
    "# confusion_matrix visualization\n",
    "import matplotlib.pyplot as plt\n",
    "import seaborn as sns\n",
    "c2 = confusion_matrix(y_true, y_pred, labels=[0,1])\n",
    "sns.heatmap(c2,annot=True)\n",
    "plt.show()"
   ]
  },
  {
   "cell_type": "code",
   "execution_count": null,
   "metadata": {},
   "outputs": [],
   "source": []
  },
  {
   "cell_type": "markdown",
   "metadata": {},
   "source": [
    "### ROC curve and AUC value"
   ]
  },
  {
   "cell_type": "code",
   "execution_count": 46,
   "metadata": {},
   "outputs": [
    {
     "data": {
      "image/png": "[encoded data removed]",
      "text/plain": [
       "<Figure size 432x288 with 1 Axes>"
      ]
     },
     "metadata": {
      "needs_background": "light"
     },
     "output_type": "display_data"
    }
   ],
   "source": [
    "import matplotlib.pyplot as plt\n",
    "from sklearn.metrics import roc_curve\n",
    "y_pred_prob = best_model.predict_proba(X_test)[:,1]\n",
    "\n",
    "fpr, tpr, thresholds = roc_curve(y_test, y_pred_prob)\n",
    "plt.plot([0, 1], [0, 1], 'k--')\n",
    "plt.plot(fpr, tpr, label='Logistic Regression')\n",
    "plt.xlabel('False Positive Rate')\n",
    "plt.ylabel('True Positive Rate')\n",
    "plt.title('Logistic Regression ROC Curve')\n",
    "plt.show()"
   ]
  },
  {
   "cell_type": "code",
   "execution_count": 47,
   "metadata": {},
   "outputs": [
    {
     "data": {
      "text/plain": [
       "0.8760643663398725"
      ]
     },
     "execution_count": 47,
     "metadata": {},
     "output_type": "execute_result"
    }
   ],
   "source": [
    "# AUC score\n",
    "from sklearn.metrics import roc_auc_score\n",
    "roc_auc_score(y_test, y_pred_prob)"
   ]
  },
  {
   "cell_type": "code",
   "execution_count": 38,
   "metadata": {
    "scrolled": true
   },
   "outputs": [
    {
     "name": "stdout",
     "output_type": "stream",
     "text": [
      "The AUC of baseline logistic regression model is 0.87606\n"
     ]
    }
   ],
   "source": [
    "# AUC score\n",
    "print('The AUC of baseline logistic regression model is {}'.format(round(clf.score(X_test, y_test),5)))"
   ]
  },
  {
   "cell_type": "code",
   "execution_count": null,
   "metadata": {},
   "outputs": [],
   "source": []
  },
  {
   "cell_type": "markdown",
   "metadata": {},
   "source": [
    "# Save the best model, do prediction\n",
    "\n",
    "I am pretty satisfied with the result. So I saved the best lr model and use it to generate a prediction"
   ]
  },
  {
   "cell_type": "code",
   "execution_count": 50,
   "metadata": {},
   "outputs": [],
   "source": [
    "# Save the model to local\n",
    "import joblib\n",
    "current_path = os.path.abspath('./')\n",
    "os.chdir(current_path)\n",
    "joblib.dump(clf, \"part2_penalized_lr.m\")\n",
    "\n",
    "# Load the saved model\n",
    "clf = joblib.load(\"part2_penalized_lr.m\")\n",
    "best_model = clf.best_estimator_"
   ]
  },
  {
   "cell_type": "markdown",
   "metadata": {},
   "source": [
    "Used the saved model to do prediction"
   ]
  },
  {
   "cell_type": "code",
   "execution_count": 51,
   "metadata": {
    "scrolled": true
   },
   "outputs": [
    {
     "data": {
      "text/html": [
       "<div>\n",
       "<style scoped>\n",
       "    .dataframe tbody tr th:only-of-type {\n",
       "        vertical-align: middle;\n",
       "    }\n",
       "\n",
       "    .dataframe tbody tr th {\n",
       "        vertical-align: top;\n",
       "    }\n",
       "\n",
       "    .dataframe thead th {\n",
       "        text-align: right;\n",
       "    }\n",
       "</style>\n",
       "<table border=\"1\" class=\"dataframe\">\n",
       "  <thead>\n",
       "    <tr style=\"text-align: right;\">\n",
       "      <th></th>\n",
       "      <th>ID_code</th>\n",
       "      <th>target</th>\n",
       "    </tr>\n",
       "  </thead>\n",
       "  <tbody>\n",
       "    <tr>\n",
       "      <th>0</th>\n",
       "      <td>test_0</td>\n",
       "      <td>1</td>\n",
       "    </tr>\n",
       "    <tr>\n",
       "      <th>1</th>\n",
       "      <td>test_1</td>\n",
       "      <td>1</td>\n",
       "    </tr>\n",
       "    <tr>\n",
       "      <th>2</th>\n",
       "      <td>test_2</td>\n",
       "      <td>0</td>\n",
       "    </tr>\n",
       "    <tr>\n",
       "      <th>3</th>\n",
       "      <td>test_3</td>\n",
       "      <td>0</td>\n",
       "    </tr>\n",
       "    <tr>\n",
       "      <th>4</th>\n",
       "      <td>test_4</td>\n",
       "      <td>1</td>\n",
       "    </tr>\n",
       "  </tbody>\n",
       "</table>\n",
       "</div>"
      ],
      "text/plain": [
       "  ID_code  target\n",
       "0  test_0       1\n",
       "1  test_1       1\n",
       "2  test_2       0\n",
       "3  test_3       0\n",
       "4  test_4       1"
      ]
     },
     "execution_count": 51,
     "metadata": {},
     "output_type": "execute_result"
    }
   ],
   "source": [
    "y_predict = best_model.predict(scaled_test)\n",
    "\n",
    "# create dataframe with index in test set\n",
    "sub_df = pd.DataFrame({\"ID_code\":test_df[\"ID_code\"].values})\n",
    "sub_df[\"target\"] = y_predict\n",
    "sub_df.to_csv(\"part2_penalized_lr_prediction.csv\", index=False)\n",
    "\n",
    "sub_df.head()"
   ]
  },
  {
   "cell_type": "code",
   "execution_count": null,
   "metadata": {},
   "outputs": [],
   "source": []
  },
  {
   "cell_type": "markdown",
   "metadata": {},
   "source": [
    "# Save the processed data sets"
   ]
  },
  {
   "cell_type": "code",
   "execution_count": 18,
   "metadata": {},
   "outputs": [],
   "source": [
    "y_smo_df = pd.DataFrame(y_smo,columns=['y'])\n",
    "x_smo_df = pd.DataFrame(X_smo)\n",
    "y_smo_df.reset_index(inplace=True)\n",
    "x_smo_df.reset_index(inplace=True)"
   ]
  },
  {
   "cell_type": "code",
   "execution_count": 19,
   "metadata": {
    "scrolled": false
   },
   "outputs": [],
   "source": [
    "train_smo = pd.concat([y_smo_df.iloc[:,1:],x_smo_df.iloc[:,1:]], axis=1)    # axis=1 add column"
   ]
  },
  {
   "cell_type": "code",
   "execution_count": 20,
   "metadata": {},
   "outputs": [],
   "source": [
    "train_smo.to_csv(\"train_smo.csv\",index=False)"
   ]
  },
  {
   "cell_type": "code",
   "execution_count": 21,
   "metadata": {},
   "outputs": [],
   "source": [
    "scaled_train_eliminate.to_csv(\"scaled_train_eliminate.csv\",index=False)"
   ]
  },
  {
   "cell_type": "code",
   "execution_count": 22,
   "metadata": {},
   "outputs": [],
   "source": [
    "scaled_test.to_csv(\"scaled_test.csv\",index=False)"
   ]
  },
  {
   "cell_type": "markdown",
   "metadata": {},
   "source": [
    "Finally, I move all there datasets to the data portfolio"
   ]
  },
  {
   "cell_type": "code",
   "execution_count": null,
   "metadata": {},
   "outputs": [],
   "source": []
  },
  {
   "cell_type": "markdown",
   "metadata": {},
   "source": [
    "## Result of submission\n",
    "\n",
    "The score provided by kaggle for the baseline model is 0.64535"
   ]
  }
 ],
 "metadata": {
  "kernelspec": {
   "display_name": "Python 3",
   "language": "python",
   "name": "python3"
  },
  "language_info": {
   "codemirror_mode": {
    "name": "ipython",
    "version": 3
   },
   "file_extension": ".py",
   "mimetype": "text/x-python",
   "name": "python",
   "nbconvert_exporter": "python",
   "pygments_lexer": "ipython3",
   "version": "3.7.3"
  }
 },
 "nbformat": 4,
 "nbformat_minor": 2
}
